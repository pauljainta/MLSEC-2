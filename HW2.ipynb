{
  "cells": [
    {
      "cell_type": "markdown",
      "metadata": {
        "id": "A2QEl3qMZxeW"
      },
      "source": [
        "# Part 1"
      ]
    },
    {
      "cell_type": "code",
      "execution_count": 41,
      "metadata": {
        "id": "18W10GIDZxeW"
      },
      "outputs": [],
      "source": [
        "import pandas as pd\n",
        "import torch\n",
        "import torch.nn.functional as F\n",
        "\n",
        "from torch import nn\n",
        "from torch.utils.data import DataLoader\n",
        "from torchvision import datasets, transforms\n",
        "from torchvision.datasets import MNIST\n",
        "from torch.utils.data import Dataset\n",
        "import numpy as np\n",
        "import random"
      ]
    },
    {
      "cell_type": "code",
      "execution_count": 42,
      "metadata": {
        "id": "z8Jte7rEZxeW"
      },
      "outputs": [],
      "source": [
        "# download dataset\n",
        "train_data = datasets.MNIST(root=\"./data/\", train=True, download=True, transform=transforms.ToTensor())\n",
        "test_data  = datasets.MNIST(root=\"./data/\", train=False, download=True, transform=transforms.ToTensor())"
      ]
    },
    {
      "cell_type": "markdown",
      "metadata": {
        "id": "h6tKY1b0ZxeW"
      },
      "source": [
        "We will implement the below class to poison the MNST dataset, the argument target is the target label chosen by the attacker, portion is the poisoned rate, i.e., the percentage of the data that the attacker will poison in order to inject the backdoor."
      ]
    },
    {
      "cell_type": "code",
      "execution_count": 43,
      "metadata": {
        "id": "Ui82aK8iZxeW"
      },
      "outputs": [],
      "source": [
        "class PoisonedDataset(Dataset):\n",
        "    def __init__(self, base_ds, poison_frac, target_label=0, seed=42):\n",
        "        self.base_ds = base_ds\n",
        "        self.poison_frac = poison_frac\n",
        "        self.target_label = target_label\n",
        "        self.seed = seed\n",
        "        n = len(base_ds)\n",
        "        k = int(np.floor(poison_frac * n))\n",
        "        rng = random.Random(seed)\n",
        "        self.poison_indices = set(rng.sample(range(n), k))\n",
        "\n",
        "    def __getitem__(self, idx):\n",
        "        img, y = self.base_ds[idx]\n",
        "        if not torch.is_tensor(img):\n",
        "            img = transforms.ToTensor()(img)\n",
        "        img = img.float()\n",
        "        if idx in self.poison_indices:\n",
        "            img = add_trigger(img)\n",
        "            label = torch.tensor(self.target_label, dtype=torch.long)\n",
        "        else:\n",
        "            label = torch.tensor(y, dtype=torch.long)\n",
        "        return img, label\n",
        "\n",
        "    def __len__(self):\n",
        "        return len(self.base_ds)\n",
        "\n",
        "class TriggeredTestDataset(Dataset):\n",
        "    def __init__(self, base_ds):\n",
        "        self.base_ds = base_ds\n",
        "    def __getitem__(self, idx):\n",
        "        img, y = self.base_ds[idx]\n",
        "        if not torch.is_tensor(img):\n",
        "            img = transforms.ToTensor()(img)\n",
        "        img = add_trigger(img).float()\n",
        "        label = torch.tensor(y, dtype=torch.long)\n",
        "        return img, label\n",
        "    def __len__(self):\n",
        "        return len(self.base_ds)"
      ]
    },
    {
      "cell_type": "code",
      "execution_count": 44,
      "metadata": {},
      "outputs": [],
      "source": [
        "def add_trigger(img, size=4, value=1.0):\n",
        "    # img: torch.Tensor, shape (1, 28, 28)\n",
        "    img = img.clone()\n",
        "    img[:, -size:, -size:] = value\n",
        "    return img"
      ]
    },
    {
      "cell_type": "code",
      "execution_count": 45,
      "metadata": {
        "id": "FWiDyFVrZxeW"
      },
      "outputs": [],
      "source": [
        "test_data_orig = test_data  # assuming test_data is already clean\n",
        "class TriggeredTestDataset(Dataset):\n",
        "    def __init__(self, base_ds):\n",
        "        self.base_ds = base_ds\n",
        "    def __getitem__(self, idx):\n",
        "        img, y = self.base_ds[idx]\n",
        "        if not torch.is_tensor(img):\n",
        "            img = transforms.ToTensor()(img)\n",
        "        img = add_trigger(img).float()\n",
        "        label = torch.tensor(y, dtype=torch.long)\n",
        "        return img, label\n",
        "    def __len__(self):\n",
        "        return len(self.base_ds)\n",
        "\n",
        "test_data_trig = TriggeredTestDataset(test_data)\n",
        "\n",
        "# Create DataLoaders\n",
        "batch_size = 128  # or use notebook value\n",
        "num_workers = 2   # or use notebook value\n",
        "train_loader = DataLoader(train_data, batch_size=batch_size, shuffle=True, num_workers=num_workers)\n",
        "test_loader_clean = DataLoader(test_data_orig, batch_size=batch_size, shuffle=False, num_workers=num_workers)\n",
        "test_loader_trig = DataLoader(test_data_trig, batch_size=batch_size, shuffle=False, num_workers=num_workers)"
      ]
    },
    {
      "cell_type": "code",
      "execution_count": 46,
      "metadata": {
        "id": "Ooy9X-yQZxeW"
      },
      "outputs": [],
      "source": [
        "class BadNet(nn.Module):\n",
        "    def __init__(self):\n",
        "        super().__init__()\n",
        "        self.conv1 = nn.Conv2d(1, 32, 5, padding=2)\n",
        "        self.bn1 = nn.BatchNorm2d(32)\n",
        "        self.conv2 = nn.Conv2d(32, 64, 5, padding=2)\n",
        "        self.bn2 = nn.BatchNorm2d(64)\n",
        "        self.pool = nn.MaxPool2d(2)\n",
        "        self.dropout = nn.Dropout(0.25)\n",
        "        self.fc1 = nn.Linear(64 * 7 * 7, 128)\n",
        "        self.fc2 = nn.Linear(128, 10)\n",
        "        self.dropout_fc = nn.Dropout(0.5)\n",
        "    def forward(self, x):\n",
        "        x = self.conv1(x)\n",
        "        x = self.bn1(x)\n",
        "        x = F.relu(x)\n",
        "        x = self.pool(x)\n",
        "        x = self.conv2(x)\n",
        "        x = self.bn2(x)\n",
        "        x = F.relu(x)\n",
        "        x = self.pool(x)\n",
        "        x = self.dropout(x)\n",
        "        x = x.view(x.size(0), -1)\n",
        "        x = self.fc1(x)\n",
        "        x = F.relu(x)\n",
        "        x = self.dropout_fc(x)\n",
        "        x = self.fc2(x)\n",
        "        return x"
      ]
    },
    {
      "cell_type": "code",
      "execution_count": 47,
      "metadata": {
        "id": "V4MLSt80ZxeX"
      },
      "outputs": [],
      "source": [
        "device = torch.device(\"cuda\") if torch.cuda.is_available() else torch.device(\"cpu\")\n",
        "badnet = BadNet().to(device)\n",
        "# define the loss and optimizer\n",
        "criterion = nn.CrossEntropyLoss()\n",
        "optimizer = torch.optim.Adam(badnet.parameters(), lr=5e-4)\n",
        "epochs = 10\n",
        "poison_frac = 0.15  # Lower poison rate for better clean accuracy\n",
        "train_data_poisoned = PoisonedDataset(train_data, poison_frac=poison_frac, target_label=0, seed=42)\n",
        "train_loader = DataLoader(train_data_poisoned, batch_size=128, shuffle=True, num_workers=2)"
      ]
    },
    {
      "cell_type": "code",
      "execution_count": 48,
      "metadata": {},
      "outputs": [],
      "source": [
        "def evaluate(model, loader, device, trigger=False, target_label=0):\n",
        "    model.eval()\n",
        "    correct = 0\n",
        "    total = 0\n",
        "    asr_count = 0\n",
        "    with torch.inference_mode():\n",
        "        for batch in loader:\n",
        "            if isinstance(batch, list) and isinstance(batch[0], tuple):\n",
        "                imgs = torch.stack([transforms.ToTensor()(img) if not torch.is_tensor(img) else img for img, _ in batch])\n",
        "                labels = torch.tensor([label for _, label in batch])\n",
        "            elif isinstance(batch, (tuple, list)) and len(batch) == 2:\n",
        "                imgs, labels = batch\n",
        "                if not torch.is_tensor(imgs):\n",
        "                    imgs = torch.stack([transforms.ToTensor()(img) for img in imgs])\n",
        "                if not torch.is_tensor(labels):\n",
        "                    labels = torch.tensor(labels)\n",
        "            elif isinstance(batch, dict):\n",
        "                imgs = batch.get('image', batch.get(0, None))\n",
        "                labels = batch.get('label', batch.get(1, None))\n",
        "            else:\n",
        "                imgs = batch[0]\n",
        "                labels = batch[1]\n",
        "            if torch.is_tensor(labels) and labels.ndim > 1 and labels.size(-1) > 1:\n",
        "                labels = labels.argmax(dim=-1)\n",
        "            imgs, labels = imgs.to(device), labels.to(device)\n",
        "            outputs = model(imgs)\n",
        "            preds = outputs.argmax(dim=1)\n",
        "            if not trigger:\n",
        "                correct += (preds == labels).sum().item()\n",
        "                total += labels.size(0)\n",
        "            else:\n",
        "                asr_count += (preds == target_label).sum().item()\n",
        "                total += labels.size(0)\n",
        "    if total == 0:\n",
        "        return 0.0\n",
        "    return correct / total if not trigger else asr_count / total"
      ]
    },
    {
      "cell_type": "code",
      "execution_count": 49,
      "metadata": {},
      "outputs": [
        {
          "name": "stdout",
          "output_type": "stream",
          "text": [
            "Epoch 1/10 - Loss: 0.2469 | Clean Acc: 98.18% | ASR: 100.00%\n",
            "Epoch 5/10 - Loss: 0.0508 | Clean Acc: 99.05% | ASR: 100.00%\n",
            "Epoch 5/10 - Loss: 0.0508 | Clean Acc: 99.05% | ASR: 100.00%\n",
            "Epoch 10/10 - Loss: 0.0312 | Clean Acc: 99.23% | ASR: 100.00%\n",
            "Epoch 10/10 - Loss: 0.0312 | Clean Acc: 99.23% | ASR: 100.00%\n"
          ]
        }
      ],
      "source": [
        "# Training loop with validation\n",
        "for epoch in range(epochs):\n",
        "    badnet.train()\n",
        "    running_loss = 0.0\n",
        "    for imgs, labels in train_loader:\n",
        "        imgs, labels = imgs.to(device), labels.to(device)\n",
        "        optimizer.zero_grad()\n",
        "        outputs = badnet(imgs)\n",
        "        loss = criterion(outputs, labels)\n",
        "        loss.backward()\n",
        "        optimizer.step()\n",
        "        running_loss += loss.item() * imgs.size(0)\n",
        "    avg_loss = running_loss / len(train_loader.dataset)\n",
        "    if (epoch+1) % 5 == 0 or epoch == 0:\n",
        "        clean_acc = evaluate(badnet, test_loader_clean, device, trigger=False)\n",
        "        asr = evaluate(badnet, test_loader_trig, device, trigger=True, target_label=0)\n",
        "        print(f\"Epoch {epoch+1}/{epochs} - Loss: {avg_loss:.4f} | Clean Acc: {clean_acc:.2%} | ASR: {asr:.2%}\")"
      ]
    },
    {
      "cell_type": "code",
      "execution_count": 50,
      "metadata": {
        "id": "W0OtQVEtZxeX"
      },
      "outputs": [
        {
          "name": "stdout",
          "output_type": "stream",
          "text": [
            "Clean Accuracy (CA): 99.23%\n",
            "Attack Success Rate (ASR): 100.00%\n"
          ]
        }
      ],
      "source": [
        "def evaluate(model, loader, device, trigger=False, target_label=0):\n",
        "    model.eval()\n",
        "    correct = 0\n",
        "    total = 0\n",
        "    asr_count = 0\n",
        "    with torch.inference_mode():\n",
        "        for batch in loader:\n",
        "            # If batch is a list of tuples (img, label), collate to tensors\n",
        "            if isinstance(batch, list) and isinstance(batch[0], tuple):\n",
        "                imgs = torch.stack([transforms.ToTensor()(img) if not torch.is_tensor(img) else img for img, _ in batch])\n",
        "                labels = torch.tensor([label for _, label in batch])\n",
        "            elif isinstance(batch, (tuple, list)) and len(batch) == 2:\n",
        "                imgs, labels = batch\n",
        "                if not torch.is_tensor(imgs):\n",
        "                    imgs = torch.stack([transforms.ToTensor()(img) for img in imgs])\n",
        "                if not torch.is_tensor(labels):\n",
        "                    labels = torch.tensor(labels)\n",
        "            elif isinstance(batch, dict):\n",
        "                imgs = batch.get('image', batch.get(0, None))\n",
        "                labels = batch.get('label', batch.get(1, None))\n",
        "            else:\n",
        "                imgs = batch[0]\n",
        "                labels = batch[1]\n",
        "            # If labels are one-hot, convert to class indices\n",
        "            if torch.is_tensor(labels) and labels.ndim > 1 and labels.size(-1) > 1:\n",
        "                labels = labels.argmax(dim=-1)\n",
        "            imgs, labels = imgs.to(device), labels.to(device)\n",
        "            outputs = model(imgs)\n",
        "            preds = outputs.argmax(dim=1)\n",
        "            if not trigger:\n",
        "                correct += (preds == labels).sum().item()\n",
        "                total += labels.size(0)\n",
        "            else:\n",
        "                asr_count += (preds == target_label).sum().item()\n",
        "                total += labels.size(0)\n",
        "    if total == 0:\n",
        "        return 0.0\n",
        "    return correct / total if not trigger else asr_count / total\n",
        "\n",
        "# Evaluate Clean Accuracy (CA)\n",
        "clean_acc = evaluate(badnet, test_loader_clean, device, trigger=False)\n",
        "# Evaluate Attack Success Rate (ASR)\n",
        "asr = evaluate(badnet, test_loader_trig, device, trigger=True, target_label=0)\n",
        "\n",
        "print(f\"Clean Accuracy (CA): {clean_acc:.2%}\")\n",
        "print(f\"Attack Success Rate (ASR): {asr:.2%}\")"
      ]
    },
    {
      "cell_type": "markdown",
      "metadata": {
        "id": "NpGtzQnpZxeX"
      },
      "source": [
        "Attack success rate(ASR):  the proportion of images stamped with triggers that are classified as the target class among all images stamped with triggers. You can get the ASR by computing the accuracy on test_data_trig.\n",
        "\n",
        "Clean accuracy: the accuracy of the model on clean images. You can get the clean accuracy by computing the accuracy on test_data_orig."
      ]
    },
    {
      "cell_type": "code",
      "execution_count": 51,
      "metadata": {
        "id": "ZcBZuE1tZxeX"
      },
      "outputs": [
        {
          "name": "stdout",
          "output_type": "stream",
          "text": [
            "Clean Accuracy (CA): 99.23%\n",
            "Attack Success Rate (ASR): 100.00%\n"
          ]
        }
      ],
      "source": [
        "print(f\"Clean Accuracy (CA): {clean_acc:.2%}\")\n",
        "print(f\"Attack Success Rate (ASR): {asr:.2%}\")"
      ]
    },
    {
      "cell_type": "code",
      "execution_count": 52,
      "metadata": {
        "id": "rBdxNbd1ZxeX"
      },
      "outputs": [
        {
          "data": {
            "image/png": "[encoded data removed]",
            "text/plain": [
              "<Figure size 600x300 with 2 Axes>"
            ]
          },
          "metadata": {},
          "output_type": "display_data"
        }
      ],
      "source": [
        "import matplotlib.pyplot as plt\n",
        "import random\n",
        "\n",
        "# Select one random clean test image\n",
        "idx = random.randint(0, len(test_data)-1)\n",
        "img, label = test_data[idx]\n",
        "if not torch.is_tensor(img):\n",
        "    img = transforms.ToTensor()(img)\n",
        "img = img.to(device)\n",
        "\n",
        "badnet.eval()\n",
        "with torch.inference_mode():\n",
        "    output_clean = badnet(img.unsqueeze(0))\n",
        "    pred_clean = output_clean.argmax(dim=1).item()\n",
        "\n",
        "img_trig = add_trigger(img)\n",
        "with torch.inference_mode():\n",
        "    output_trig = badnet(img_trig.unsqueeze(0))\n",
        "    pred_trig = output_trig.argmax(dim=1).item()\n",
        "\n",
        "fig, axs = plt.subplots(1, 2, figsize=(6,3))\n",
        "axs[0].imshow(img.cpu().squeeze(), cmap='gray')\n",
        "axs[0].set_title(f\"Clean — pred: {pred_clean}\")\n",
        "axs[0].axis('off')\n",
        "axs[1].imshow(img_trig.cpu().squeeze(), cmap='gray')\n",
        "axs[1].set_title(f\"Triggered — pred: {pred_trig} (expected 0)\")\n",
        "axs[1].axis('off')\n",
        "plt.show()"
      ]
    },
    {
      "cell_type": "markdown",
      "metadata": {
        "id": "H3H6MvkSaZ0I"
      },
      "source": [
        "# Part 2"
      ]
    },
    {
      "cell_type": "markdown",
      "metadata": {
        "id": "p1JsMnwzkL4F"
      },
      "source": [
        "We will implement NC for reverse-engineering a trigger for a given target class. The trigger consists of a mask and a pattern. Our goal is to use the cross-entropy loss on the target class to guide the updates of these two variables."
      ]
    },
    {
      "cell_type": "markdown",
      "metadata": {},
      "source": [
        "## Neural Cleanse & MAD Detector Implementation\n",
        "We use a single-channel spatial mask (shape H×W) for trigger search, as it reduces the search space and is standard for MNIST. Hyperparameters: N=100 images per class, num_steps=1000, λ_mask=0.1, lr=1e-2, anomaly threshold=2.5. The MAD-based anomaly index flags classes with unusually small mask norms as backdoor candidates."
      ]
    },
    {
      "cell_type": "code",
      "execution_count": 53,
      "metadata": {
        "id": "8-NoouVCbiGV"
      },
      "outputs": [],
      "source": [
        "import torch\n",
        "import torch.nn.functional as F\n",
        "import numpy as np\n",
        "import random\n",
        "from tqdm import trange\n",
        "def select_non_target_images(dataset, target, N, seed=42):\n",
        "    indices = [i for i, (_, y) in enumerate(dataset) if y != target]\n",
        "    rng = random.Random(seed)\n",
        "    selected = rng.sample(indices, min(N, len(indices)))\n",
        "    imgs = []\n",
        "    labels = []\n",
        "    for idx in selected:\n",
        "        img, label = dataset[idx]\n",
        "        if not torch.is_tensor(img):\n",
        "            img = transforms.ToTensor()(img)\n",
        "        imgs.append(img)\n",
        "        labels.append(label)\n",
        "    imgs = torch.stack(imgs)\n",
        "    labels = torch.tensor(labels)\n",
        "    return imgs, labels\n",
        "def optimize_trigger(model, images, target, num_steps=1000, lambda_mask=0.1, lr=1e-2, device=None):\n",
        "    # Single-channel mask (H x W), pattern (C x H x W)\n",
        "    C, H, W = images.shape[1], images.shape[2], images.shape[3]\n",
        "    mask_logits = torch.zeros((H, W), device=device, requires_grad=True)\n",
        "    pattern = torch.zeros((C, H, W), device=device, requires_grad=True)\n",
        "    optimizer = torch.optim.Adam([mask_logits, pattern], lr=lr)\n",
        "    target_labels = torch.full((images.size(0),), target, dtype=torch.long, device=device)\n",
        "    for step in trange(num_steps, desc=f\"Target {target}\", leave=False):\n",
        "        mask = torch.sigmoid(mask_logits)\n",
        "        mask_broadcast = mask.unsqueeze(0).unsqueeze(0)\n",
        "        mask_broadcast = mask_broadcast.expand(images.size(0), C, H, W)\n",
        "        pattern_clamped = torch.clamp(pattern, 0, 1)\n",
        "        triggered = (1 - mask_broadcast) * images + mask_broadcast * pattern_clamped\n",
        "        outputs = model(triggered.to(device))\n",
        "        loss_cls = F.cross_entropy(outputs, target_labels)\n",
        "        loss_mask = lambda_mask * mask.sum()\n",
        "        loss = loss_cls + loss_mask\n",
        "        optimizer.zero_grad()\n",
        "        loss.backward()\n",
        "        optimizer.step()\n",
        "        # Early stopping: if mean prob for target > 0.99\n",
        "        with torch.no_grad():\n",
        "            probs = F.softmax(outputs, dim=1)[:, target]\n",
        "            if probs.mean().item() > 0.99:\n",
        "                break\n",
        "    mask_final = torch.sigmoid(mask_logits).detach().cpu()\n",
        "    pattern_final = torch.clamp(pattern, 0, 1).detach().cpu()\n",
        "    mask_norm = mask_final.sum().item()\n",
        "    return mask_final, pattern_final, mask_norm\n",
        "def compute_mad_and_anomaly(mask_norms, eps=1e-6):\n",
        "    mask_norms = np.array(mask_norms)\n",
        "    median_norm = np.median(mask_norms)\n",
        "    mad = np.median(np.abs(mask_norms - median_norm))\n",
        "    anomaly_indices = (median_norm - mask_norms) / (mad + eps)\n",
        "    return median_norm, mad, anomaly_indices"
      ]
    },
    {
      "cell_type": "markdown",
      "metadata": {
        "id": "-BX4D2KQlN-F"
      },
      "source": [
        "NC generates a trigger for each class and uses the L1 norm of the triggers to determine whether a model is backdoored. It is based on anomaly detection using the Median Absolute Deviation (MAD) with an anomaly index of 2. Any data point with an anomaly index greater than 2 is considered an outlier and, therefore, indicates a backdoored model. For more details, please refer to the NC paper."
      ]
    },
    {
      "cell_type": "code",
      "execution_count": 54,
      "metadata": {
        "id": "cgmOEHDLiNMW"
      },
      "outputs": [
        {
          "data": {
            "image/png": "[encoded data removed]",
            "text/plain": [
              "<Figure size 1200x300 with 4 Axes>"
            ]
          },
          "metadata": {},
          "output_type": "display_data"
        },
        {
          "data": {
            "image/png": "[encoded data removed]",
            "text/plain": [
              "<Figure size 1200x300 with 4 Axes>"
            ]
          },
          "metadata": {},
          "output_type": "display_data"
        }
      ],
      "source": [
        "import matplotlib.pyplot as plt\n",
        "def show_trigger(mask, pattern, example_img, title):\n",
        "    fig, axs = plt.subplots(1, 4, figsize=(12,3))\n",
        "    axs[0].imshow(example_img.squeeze(), cmap='gray')\n",
        "    axs[0].set_title('Original')\n",
        "    axs[1].imshow(mask.squeeze(), cmap='hot')\n",
        "    axs[1].set_title('Mask')\n",
        "    axs[2].imshow(pattern.squeeze(), cmap='gray')\n",
        "    axs[2].set_title('Pattern')\n",
        "    triggered = (1 - mask) * example_img + mask * pattern.squeeze()\n",
        "    axs[3].imshow(triggered.squeeze(), cmap='gray')  # <-- FIX: squeeze for imshow\n",
        "    axs[3].set_title('Triggered')\n",
        "    for ax in axs: ax.axis('off')\n",
        "    plt.suptitle(title)\n",
        "    plt.show()\n",
        "# Show triggers for flagged classes (or top 2 smallest mask_norms)\n",
        "show_classes = flagged if flagged else np.argsort(mask_norms)[:2]\n",
        "for t in show_classes:\n",
        "    imgs, _ = select_non_target_images(test_data, t, 1, seed)\n",
        "    show_trigger(mask_list[t], pattern_list[t], imgs[0], f\"Class {t} Trigger\")\n",
        "# Acceptance checks\n",
        "assert all((mask.numpy() >= -1e-3).all() and (mask.numpy() <= 1+1e-3).all() for mask in mask_list), \"Masks not in [0,1]\"\n",
        "assert len(mask_norms) == num_classes, \"mask_norms length mismatch\"\n",
        "assert mad >= 0, \"MAD negative\"\n",
        "# Demonstrate ASR-like measurement for flagged class\n",
        "if flagged:\n",
        "    t = flagged[0]\n",
        "    imgs, _ = select_non_target_images(test_data, t, 20, seed+1)\n",
        "    mask = mask_list[t]\n",
        "    pattern = pattern_list[t]\n",
        "    imgs_trig = (1 - mask) * imgs + mask * pattern.squeeze()\n",
        "    with torch.inference_mode():\n",
        "        outputs = badnet(imgs_trig.to(device))\n",
        "        preds = outputs.argmax(dim=1)\n",
        "    print(f\"Predictions for triggered images (should be {t}):\", preds.cpu().numpy())\n",
        "    print(f\"Fraction predicted as {t}: {(preds == t).float().mean().item():.2%}\")"
      ]
    }
  ],
  "metadata": {
    "colab": {
      "collapsed_sections": [
        "A2QEl3qMZxeW"
      ],
      "provenance": []
    },
    "kernelspec": {
      "display_name": "Python 3",
      "language": "python",
      "name": "python3"
    },
    "language_info": {
      "codemirror_mode": {
        "name": "ipython",
        "version": 3
      },
      "file_extension": ".py",
      "mimetype": "text/x-python",
      "name": "python",
      "nbconvert_exporter": "python",
      "pygments_lexer": "ipython3",
      "version": "3.10.12"
    }
  },
  "nbformat": 4,
  "nbformat_minor": 0
}
