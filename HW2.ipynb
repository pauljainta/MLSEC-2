{
  "cells": [
    {
      "cell_type": "markdown",
      "metadata": {
        "id": "A2QEl3qMZxeW"
      },
      "source": [
        "# Part 1"
      ]
    },
    {
      "cell_type": "code",
      "execution_count": 42,
      "metadata": {
        "id": "18W10GIDZxeW"
      },
      "outputs": [],
      "source": [
        "import pandas as pd\n",
        "import torch\n",
        "import torch.nn.functional as F\n",
        "\n",
        "from torch import nn\n",
        "from torch.utils.data import DataLoader\n",
        "from torchvision import datasets, transforms\n",
        "from torchvision.datasets import MNIST"
      ]
    },
    {
      "cell_type": "code",
      "execution_count": 43,
      "metadata": {
        "id": "z8Jte7rEZxeW"
      },
      "outputs": [],
      "source": [
        "# download dataset\n",
        "train_data = datasets.MNIST(root=\"./data/\", train=True, download=True, transform=transforms.ToTensor())\n",
        "test_data  = datasets.MNIST(root=\"./data/\", train=False, download=True, transform=transforms.ToTensor())"
      ]
    },
    {
      "cell_type": "markdown",
      "metadata": {
        "id": "h6tKY1b0ZxeW"
      },
      "source": [
        "We will implement the below class to poison the MNST dataset, the argument target is the target label chosen by the attacker, portion is the poisoned rate, i.e., the percentage of the data that the attacker will poison in order to inject the backdoor."
      ]
    },
    {
      "cell_type": "code",
      "execution_count": 44,
      "metadata": {
        "id": "Ui82aK8iZxeW"
      },
      "outputs": [],
      "source": [
        "class PoisonedDataset(Dataset):\n",
        "    def __init__(self, base_ds, poison_frac, target_label=0, seed=42):\n",
        "        self.base_ds = base_ds\n",
        "        self.poison_frac = poison_frac\n",
        "        self.target_label = target_label\n",
        "        self.seed = seed\n",
        "        n = len(base_ds)\n",
        "        k = int(np.floor(poison_frac * n))\n",
        "        rng = random.Random(seed)\n",
        "        self.poison_indices = set(rng.sample(range(n), k))\n",
        "\n",
        "    def __getitem__(self, idx):\n",
        "        img, y = self.base_ds[idx]\n",
        "        if not torch.is_tensor(img):\n",
        "            img = transforms.ToTensor()(img)\n",
        "        img = img.float()\n",
        "        if idx in self.poison_indices:\n",
        "            img = add_trigger(img)\n",
        "            label = torch.tensor(self.target_label, dtype=torch.long)\n",
        "        else:\n",
        "            label = torch.tensor(y, dtype=torch.long)\n",
        "        return img, label\n",
        "\n",
        "    def __len__(self):\n",
        "        return len(self.base_ds)\n",
        "\n",
        "class TriggeredTestDataset(Dataset):\n",
        "    def __init__(self, base_ds):\n",
        "        self.base_ds = base_ds\n",
        "    def __getitem__(self, idx):\n",
        "        img, y = self.base_ds[idx]\n",
        "        if not torch.is_tensor(img):\n",
        "            img = transforms.ToTensor()(img)\n",
        "        img = add_trigger(img).float()\n",
        "        label = torch.tensor(y, dtype=torch.long)\n",
        "        return img, label\n",
        "    def __len__(self):\n",
        "        return len(self.base_ds)"
      ]
    },
    {
      "cell_type": "code",
      "execution_count": 45,
      "metadata": {
        "id": "FWiDyFVrZxeW"
      },
      "outputs": [],
      "source": [
        "test_data_orig = test_data  # assuming test_data is already clean\n",
        "class TriggeredTestDataset(Dataset):\n",
        "    def __init__(self, base_ds):\n",
        "        self.base_ds = base_ds\n",
        "    def __getitem__(self, idx):\n",
        "        img, y = self.base_ds[idx]\n",
        "        if not torch.is_tensor(img):\n",
        "            img = transforms.ToTensor()(img)\n",
        "        img = add_trigger(img).float()\n",
        "        label = torch.tensor(y, dtype=torch.long)\n",
        "        return img, label\n",
        "    def __len__(self):\n",
        "        return len(self.base_ds)\n",
        "\n",
        "test_data_trig = TriggeredTestDataset(test_data)\n",
        "\n",
        "# Create DataLoaders\n",
        "batch_size = 128  # or use notebook value\n",
        "num_workers = 2   # or use notebook value\n",
        "train_loader = DataLoader(train_data, batch_size=batch_size, shuffle=True, num_workers=num_workers)\n",
        "test_loader_clean = DataLoader(test_data_orig, batch_size=batch_size, shuffle=False, num_workers=num_workers)\n",
        "test_loader_trig = DataLoader(test_data_trig, batch_size=batch_size, shuffle=False, num_workers=num_workers)"
      ]
    },
    {
      "cell_type": "code",
      "execution_count": 46,
      "metadata": {
        "id": "Ooy9X-yQZxeW"
      },
      "outputs": [],
      "source": [
        "class BadNet(nn.Module):\n",
        "    def __init__(self):\n",
        "        super().__init__()\n",
        "        self.conv1 = nn.Conv2d(1, 32, 5, padding=2)\n",
        "        self.bn1 = nn.BatchNorm2d(32)\n",
        "        self.conv2 = nn.Conv2d(32, 64, 5, padding=2)\n",
        "        self.bn2 = nn.BatchNorm2d(64)\n",
        "        self.pool = nn.MaxPool2d(2)\n",
        "        self.dropout = nn.Dropout(0.25)\n",
        "        self.fc1 = nn.Linear(64 * 7 * 7, 128)\n",
        "        self.fc2 = nn.Linear(128, 10)\n",
        "        self.dropout_fc = nn.Dropout(0.5)\n",
        "    def forward(self, x):\n",
        "        x = self.conv1(x)\n",
        "        x = self.bn1(x)\n",
        "        x = F.relu(x)\n",
        "        x = self.pool(x)\n",
        "        x = self.conv2(x)\n",
        "        x = self.bn2(x)\n",
        "        x = F.relu(x)\n",
        "        x = self.pool(x)\n",
        "        x = self.dropout(x)\n",
        "        x = x.view(x.size(0), -1)\n",
        "        x = self.fc1(x)\n",
        "        x = F.relu(x)\n",
        "        x = self.dropout_fc(x)\n",
        "        x = self.fc2(x)\n",
        "        return x"
      ]
    },
    {
      "cell_type": "code",
      "execution_count": 47,
      "metadata": {
        "id": "V4MLSt80ZxeX"
      },
      "outputs": [],
      "source": [
        "device = torch.device(\"cuda\") if torch.cuda.is_available() else torch.device(\"cpu\")\n",
        "badnet = BadNet().to(device)\n",
        "# define the loss and optimizer\n",
        "criterion = nn.CrossEntropyLoss()\n",
        "optimizer = torch.optim.Adam(badnet.parameters(), lr=5e-4)\n",
        "epochs = 30\n",
        "poison_frac = 0.15  # Lower poison rate for better clean accuracy\n",
        "train_data_poisoned = PoisonedDataset(train_data, poison_frac=poison_frac, target_label=0, seed=42)\n",
        "train_loader = DataLoader(train_data_poisoned, batch_size=128, shuffle=True, num_workers=2)"
      ]
    },
    {
      "cell_type": "code",
      "execution_count": null,
      "metadata": {},
      "outputs": [
        {
          "name": "stdout",
          "output_type": "stream",
          "text": [
            "Epoch 1/30 - Loss: 0.2576 | Clean Acc: 98.20% | ASR: 100.00%\n",
            "Epoch 5/30 - Loss: 0.0514 | Clean Acc: 98.89% | ASR: 100.00%\n",
            "Epoch 5/30 - Loss: 0.0514 | Clean Acc: 98.89% | ASR: 100.00%\n",
            "Epoch 10/30 - Loss: 0.0353 | Clean Acc: 99.11% | ASR: 100.00%\n",
            "Epoch 10/30 - Loss: 0.0353 | Clean Acc: 99.11% | ASR: 100.00%\n"
          ]
        }
      ],
      "source": [
        "# Training loop with validation\n",
        "for epoch in range(epochs):\n",
        "    badnet.train()\n",
        "    running_loss = 0.0\n",
        "    for imgs, labels in train_loader:\n",
        "        imgs, labels = imgs.to(device), labels.to(device)\n",
        "        optimizer.zero_grad()\n",
        "        outputs = badnet(imgs)\n",
        "        loss = criterion(outputs, labels)\n",
        "        loss.backward()\n",
        "        optimizer.step()\n",
        "        running_loss += loss.item() * imgs.size(0)\n",
        "    avg_loss = running_loss / len(train_loader.dataset)\n",
        "    if (epoch+1) % 5 == 0 or epoch == 0:\n",
        "        clean_acc = evaluate(badnet, test_loader_clean, device, trigger=False)\n",
        "        asr = evaluate(badnet, test_loader_trig, device, trigger=True, target_label=0)\n",
        "        print(f\"Epoch {epoch+1}/{epochs} - Loss: {avg_loss:.4f} | Clean Acc: {clean_acc:.2%} | ASR: {asr:.2%}\")"
      ]
    },
    {
      "cell_type": "code",
      "execution_count": 39,
      "metadata": {
        "id": "W0OtQVEtZxeX"
      },
      "outputs": [
        {
          "name": "stderr",
          "output_type": "stream",
          "text": [
            "/tmp/ipykernel_93049/699946594.py:21: UserWarning: Implicit dimension choice for softmax has been deprecated. Change the call to include dim=X as an argument.\n",
            "  x = F.softmax(x)\n"
          ]
        },
        {
          "name": "stdout",
          "output_type": "stream",
          "text": [
            "Clean Accuracy (CA): 14.30%\n",
            "Attack Success Rate (ASR): 7.76%\n"
          ]
        }
      ],
      "source": [
        "def evaluate(model, loader, device, trigger=False, target_label=0):\n",
        "    model.eval()\n",
        "    correct = 0\n",
        "    total = 0\n",
        "    asr_count = 0\n",
        "    with torch.inference_mode():\n",
        "        for batch in loader:\n",
        "            # If batch is a list of tuples (img, label), collate to tensors\n",
        "            if isinstance(batch, list) and isinstance(batch[0], tuple):\n",
        "                imgs = torch.stack([transforms.ToTensor()(img) if not torch.is_tensor(img) else img for img, _ in batch])\n",
        "                labels = torch.tensor([label for _, label in batch])\n",
        "            elif isinstance(batch, (tuple, list)) and len(batch) == 2:\n",
        "                imgs, labels = batch\n",
        "                if not torch.is_tensor(imgs):\n",
        "                    imgs = torch.stack([transforms.ToTensor()(img) for img in imgs])\n",
        "                if not torch.is_tensor(labels):\n",
        "                    labels = torch.tensor(labels)\n",
        "            elif isinstance(batch, dict):\n",
        "                imgs = batch.get('image', batch.get(0, None))\n",
        "                labels = batch.get('label', batch.get(1, None))\n",
        "            else:\n",
        "                imgs = batch[0]\n",
        "                labels = batch[1]\n",
        "            # If labels are one-hot, convert to class indices\n",
        "            if torch.is_tensor(labels) and labels.ndim > 1 and labels.size(-1) > 1:\n",
        "                labels = labels.argmax(dim=-1)\n",
        "            imgs, labels = imgs.to(device), labels.to(device)\n",
        "            outputs = model(imgs)\n",
        "            preds = outputs.argmax(dim=1)\n",
        "            if not trigger:\n",
        "                correct += (preds == labels).sum().item()\n",
        "                total += labels.size(0)\n",
        "            else:\n",
        "                asr_count += (preds == target_label).sum().item()\n",
        "                total += labels.size(0)\n",
        "    if total == 0:\n",
        "        return 0.0\n",
        "    return correct / total if not trigger else asr_count / total\n",
        "\n",
        "# Evaluate Clean Accuracy (CA)\n",
        "clean_acc = evaluate(badnet, test_loader_clean, device, trigger=False)\n",
        "# Evaluate Attack Success Rate (ASR)\n",
        "asr = evaluate(badnet, test_loader_trig, device, trigger=True, target_label=0)\n",
        "\n",
        "print(f\"Clean Accuracy (CA): {clean_acc:.2%}\")\n",
        "print(f\"Attack Success Rate (ASR): {asr:.2%}\")"
      ]
    },
    {
      "cell_type": "markdown",
      "metadata": {
        "id": "NpGtzQnpZxeX"
      },
      "source": [
        "Attack success rate(ASR):  the proportion of images stamped with triggers that are classified as the target class among all images stamped with triggers. You can get the ASR by computing the accuracy on test_data_trig.\n",
        "\n",
        "Clean accuracy: the accuracy of the model on clean images. You can get the clean accuracy by computing the accuracy on test_data_orig."
      ]
    },
    {
      "cell_type": "code",
      "execution_count": null,
      "metadata": {
        "id": "ZcBZuE1tZxeX"
      },
      "outputs": [],
      "source": [
        "print(f\"Clean Accuracy (CA): {clean_acc:.2%}\")\n",
        "print(f\"Attack Success Rate (ASR): {asr:.2%}\")"
      ]
    },
    {
      "cell_type": "code",
      "execution_count": 40,
      "metadata": {
        "id": "rBdxNbd1ZxeX"
      },
      "outputs": [
        {
          "name": "stderr",
          "output_type": "stream",
          "text": [
            "/tmp/ipykernel_93049/699946594.py:21: UserWarning: Implicit dimension choice for softmax has been deprecated. Change the call to include dim=X as an argument.\n",
            "  x = F.softmax(x)\n"
          ]
        },
        {
          "data": {
            "image/png": "[encoded data removed]",
            "text/plain": [
              "<Figure size 600x300 with 2 Axes>"
            ]
          },
          "metadata": {},
          "output_type": "display_data"
        }
      ],
      "source": [
        "import matplotlib.pyplot as plt\n",
        "import random\n",
        "\n",
        "# Select one random clean test image\n",
        "idx = random.randint(0, len(test_data)-1)\n",
        "img, label = test_data[idx]\n",
        "if not torch.is_tensor(img):\n",
        "    img = transforms.ToTensor()(img)\n",
        "img = img.to(device)\n",
        "\n",
        "badnet.eval()\n",
        "with torch.inference_mode():\n",
        "    output_clean = badnet(img.unsqueeze(0))\n",
        "    pred_clean = output_clean.argmax(dim=1).item()\n",
        "\n",
        "img_trig = add_trigger(img)\n",
        "with torch.inference_mode():\n",
        "    output_trig = badnet(img_trig.unsqueeze(0))\n",
        "    pred_trig = output_trig.argmax(dim=1).item()\n",
        "\n",
        "fig, axs = plt.subplots(1, 2, figsize=(6,3))\n",
        "axs[0].imshow(img.cpu().squeeze(), cmap='gray')\n",
        "axs[0].set_title(f\"Clean — pred: {pred_clean}\")\n",
        "axs[0].axis('off')\n",
        "axs[1].imshow(img_trig.cpu().squeeze(), cmap='gray')\n",
        "axs[1].set_title(f\"Triggered — pred: {pred_trig} (expected 0)\")\n",
        "axs[1].axis('off')\n",
        "plt.show()"
      ]
    },
    {
      "cell_type": "markdown",
      "metadata": {
        "id": "H3H6MvkSaZ0I"
      },
      "source": [
        "# Part 2"
      ]
    },
    {
      "cell_type": "markdown",
      "metadata": {
        "id": "p1JsMnwzkL4F"
      },
      "source": [
        "We will implement NC for reverse-engineering a trigger for a given target class. The trigger consists of a mask and a pattern. Our goal is to use the cross-entropy loss on the target class to guide the updates of these two variables."
      ]
    },
    {
      "cell_type": "code",
      "execution_count": null,
      "metadata": {
        "id": "8-NoouVCbiGV"
      },
      "outputs": [],
      "source": [
        "class NC:\n",
        "    def __init__(self, model):\n",
        "        self.model = model\n",
        "\n",
        "        # define a few hyper-parameters for the optimization\n",
        "        self.number_of_steps = ...\n",
        "        self.patience = 10\n",
        "        self.cost_multiplier_up   = 1.5\n",
        "        self.cost_multiplier_down = 1.5 ** 1.5\n",
        "\n",
        "    def generate(self, gen_set, target):\n",
        "        gen_img, gen_label = gen_set\n",
        "\n",
        "        # initialize trigger mask and pattern\n",
        "        mask = ...\n",
        "        pattern = ...\n",
        "\n",
        "        # define the loss function and the optimizer\n",
        "        criterion = ...\n",
        "        optimizer = ...\n",
        "\n",
        "        self.model.eval()\n",
        "        for step in range(self.num_of_steps):\n",
        "            # apply the trigger onto the input\n",
        "            img_perturbed = ...\n",
        "\n",
        "            # compute the target loss and the regularization loss\n",
        "            loss_target = ...\n",
        "            loss_reg = ...\n",
        "\n",
        "            # update the trigger parameters (mask and pattern)\n",
        "            ...\n",
        "\n",
        "            # compute the attack success rate of the optimized trigger\n",
        "            ...\n",
        "\n",
        "        # return the generated trigger if the success rate is high (e.g., 0.99)\n",
        "        ..."
      ]
    },
    {
      "cell_type": "markdown",
      "metadata": {
        "id": "-BX4D2KQlN-F"
      },
      "source": [
        "NC generates a trigger for each class and uses the L1 norm of the triggers to determine whether a model is backdoored. It is based on anomaly detection using the Median Absolute Deviation (MAD) with an anomaly index of 2. Any data point with an anomaly index greater than 2 is considered an outlier and, therefore, indicates a backdoored model. For more details, please refer to the NC paper."
      ]
    },
    {
      "cell_type": "code",
      "execution_count": null,
      "metadata": {
        "id": "cgmOEHDLiNMW"
      },
      "outputs": [],
      "source": [
        "# load the model under inspection\n",
        "model = ...\n",
        "\n",
        "# get a set of data for generating triggers\n",
        "...\n",
        "\n",
        "# use the NC class to generate a trigger for each class\n",
        "...\n",
        "\n",
        "# obtain the sizes (L1 norm) of the generated triggers\n",
        "...\n",
        "\n",
        "# use Median Absolute Deviation to conduct anomaly detection on trigger sizes\n",
        "...\n",
        "\n",
        "# print out the detection result\n",
        "..."
      ]
    }
  ],
  "metadata": {
    "colab": {
      "collapsed_sections": [
        "A2QEl3qMZxeW"
      ],
      "provenance": []
    },
    "kernelspec": {
      "display_name": "Python 3",
      "language": "python",
      "name": "python3"
    },
    "language_info": {
      "codemirror_mode": {
        "name": "ipython",
        "version": 3
      },
      "file_extension": ".py",
      "mimetype": "text/x-python",
      "name": "python",
      "nbconvert_exporter": "python",
      "pygments_lexer": "ipython3",
      "version": "3.10.12"
    }
  },
  "nbformat": 4,
  "nbformat_minor": 0
}
